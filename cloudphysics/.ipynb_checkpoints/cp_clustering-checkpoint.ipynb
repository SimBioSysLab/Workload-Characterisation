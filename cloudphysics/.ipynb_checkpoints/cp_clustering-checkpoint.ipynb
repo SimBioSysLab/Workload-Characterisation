{
 "cells": [
  {
   "cell_type": "code",
   "execution_count": 23,
   "metadata": {},
   "outputs": [],
   "source": [
    "import pandas as pd"
   ]
  },
  {
   "cell_type": "code",
   "execution_count": 24,
   "metadata": {},
   "outputs": [],
   "source": [
    "path = \"../results/combined_workload.csv\"\n",
    "dataset = pd.read_csv(path)\n",
    "del dataset[\"filename\"]"
   ]
  },
  {
   "cell_type": "code",
   "execution_count": 25,
   "metadata": {},
   "outputs": [
    {
     "data": {
      "text/html": [
       "<div>\n",
       "<style scoped>\n",
       "    .dataframe tbody tr th:only-of-type {\n",
       "        vertical-align: middle;\n",
       "    }\n",
       "\n",
       "    .dataframe tbody tr th {\n",
       "        vertical-align: top;\n",
       "    }\n",
       "\n",
       "    .dataframe thead th {\n",
       "        text-align: right;\n",
       "    }\n",
       "</style>\n",
       "<table border=\"1\" class=\"dataframe\">\n",
       "  <thead>\n",
       "    <tr style=\"text-align: right;\">\n",
       "      <th></th>\n",
       "      <th>rw_ratio</th>\n",
       "      <th>iat_range</th>\n",
       "      <th>iat_avg</th>\n",
       "      <th>iat_median</th>\n",
       "      <th>read_range</th>\n",
       "      <th>read_avg</th>\n",
       "      <th>read_median</th>\n",
       "      <th>write_range</th>\n",
       "      <th>write_avg</th>\n",
       "      <th>write_median</th>\n",
       "      <th>block_range</th>\n",
       "      <th>block_average</th>\n",
       "      <th>block_median</th>\n",
       "    </tr>\n",
       "  </thead>\n",
       "  <tbody>\n",
       "    <tr>\n",
       "      <th>0</th>\n",
       "      <td>0.949339</td>\n",
       "      <td>8.654989e+08</td>\n",
       "      <td>108082.521088</td>\n",
       "      <td>797.0</td>\n",
       "      <td>7.792819e+08</td>\n",
       "      <td>46837.239270</td>\n",
       "      <td>983.0</td>\n",
       "      <td>865498946.0</td>\n",
       "      <td>166225.088872</td>\n",
       "      <td>610.0</td>\n",
       "      <td>2055.0</td>\n",
       "      <td>34.008369</td>\n",
       "      <td>16.0</td>\n",
       "    </tr>\n",
       "    <tr>\n",
       "      <th>1</th>\n",
       "      <td>0.795706</td>\n",
       "      <td>2.574255e+08</td>\n",
       "      <td>66164.873508</td>\n",
       "      <td>1191.0</td>\n",
       "      <td>2.069791e+08</td>\n",
       "      <td>12878.061528</td>\n",
       "      <td>1394.0</td>\n",
       "      <td>257425490.0</td>\n",
       "      <td>108565.492575</td>\n",
       "      <td>1052.0</td>\n",
       "      <td>2047.0</td>\n",
       "      <td>37.809510</td>\n",
       "      <td>8.0</td>\n",
       "    </tr>\n",
       "    <tr>\n",
       "      <th>2</th>\n",
       "      <td>0.810921</td>\n",
       "      <td>8.094492e+07</td>\n",
       "      <td>109158.156998</td>\n",
       "      <td>606.0</td>\n",
       "      <td>1.792452e+07</td>\n",
       "      <td>26936.713152</td>\n",
       "      <td>1600.0</td>\n",
       "      <td>80944925.0</td>\n",
       "      <td>175833.287737</td>\n",
       "      <td>448.0</td>\n",
       "      <td>2055.0</td>\n",
       "      <td>49.718695</td>\n",
       "      <td>8.0</td>\n",
       "    </tr>\n",
       "    <tr>\n",
       "      <th>3</th>\n",
       "      <td>1.397184</td>\n",
       "      <td>1.667499e+08</td>\n",
       "      <td>39546.274339</td>\n",
       "      <td>686.0</td>\n",
       "      <td>7.108418e+07</td>\n",
       "      <td>6658.851804</td>\n",
       "      <td>357.0</td>\n",
       "      <td>166749878.0</td>\n",
       "      <td>85496.072334</td>\n",
       "      <td>1211.0</td>\n",
       "      <td>2055.0</td>\n",
       "      <td>184.206164</td>\n",
       "      <td>16.0</td>\n",
       "    </tr>\n",
       "    <tr>\n",
       "      <th>4</th>\n",
       "      <td>0.657149</td>\n",
       "      <td>1.799989e+08</td>\n",
       "      <td>7242.949915</td>\n",
       "      <td>703.0</td>\n",
       "      <td>1.730593e+08</td>\n",
       "      <td>8249.782882</td>\n",
       "      <td>407.0</td>\n",
       "      <td>179998861.0</td>\n",
       "      <td>6581.310998</td>\n",
       "      <td>1154.0</td>\n",
       "      <td>2047.0</td>\n",
       "      <td>141.673702</td>\n",
       "      <td>16.0</td>\n",
       "    </tr>\n",
       "    <tr>\n",
       "      <th>...</th>\n",
       "      <td>...</td>\n",
       "      <td>...</td>\n",
       "      <td>...</td>\n",
       "      <td>...</td>\n",
       "      <td>...</td>\n",
       "      <td>...</td>\n",
       "      <td>...</td>\n",
       "      <td>...</td>\n",
       "      <td>...</td>\n",
       "      <td>...</td>\n",
       "      <td>...</td>\n",
       "      <td>...</td>\n",
       "      <td>...</td>\n",
       "    </tr>\n",
       "    <tr>\n",
       "      <th>100</th>\n",
       "      <td>0.735621</td>\n",
       "      <td>9.413314e+07</td>\n",
       "      <td>167453.379900</td>\n",
       "      <td>308.0</td>\n",
       "      <td>1.229266e+07</td>\n",
       "      <td>4138.000474</td>\n",
       "      <td>287.0</td>\n",
       "      <td>94133143.0</td>\n",
       "      <td>287591.688641</td>\n",
       "      <td>322.0</td>\n",
       "      <td>2056.0</td>\n",
       "      <td>30.233036</td>\n",
       "      <td>8.0</td>\n",
       "    </tr>\n",
       "    <tr>\n",
       "      <th>101</th>\n",
       "      <td>0.044577</td>\n",
       "      <td>6.515103e+07</td>\n",
       "      <td>51804.597993</td>\n",
       "      <td>383.0</td>\n",
       "      <td>2.450061e+07</td>\n",
       "      <td>17874.666616</td>\n",
       "      <td>3203.0</td>\n",
       "      <td>65151032.0</td>\n",
       "      <td>53317.086858</td>\n",
       "      <td>368.0</td>\n",
       "      <td>1016.0</td>\n",
       "      <td>22.779462</td>\n",
       "      <td>8.0</td>\n",
       "    </tr>\n",
       "    <tr>\n",
       "      <th>102</th>\n",
       "      <td>0.968890</td>\n",
       "      <td>1.080541e+09</td>\n",
       "      <td>59746.007259</td>\n",
       "      <td>23.0</td>\n",
       "      <td>1.080541e+09</td>\n",
       "      <td>115133.475121</td>\n",
       "      <td>217.0</td>\n",
       "      <td>323605241.0</td>\n",
       "      <td>6081.634407</td>\n",
       "      <td>12.0</td>\n",
       "      <td>2047.0</td>\n",
       "      <td>52.682668</td>\n",
       "      <td>16.0</td>\n",
       "    </tr>\n",
       "    <tr>\n",
       "      <th>103</th>\n",
       "      <td>0.479598</td>\n",
       "      <td>6.479814e+07</td>\n",
       "      <td>17513.200142</td>\n",
       "      <td>3063.0</td>\n",
       "      <td>6.267350e+07</td>\n",
       "      <td>21014.311846</td>\n",
       "      <td>19504.0</td>\n",
       "      <td>64798139.0</td>\n",
       "      <td>15834.073747</td>\n",
       "      <td>1720.0</td>\n",
       "      <td>2055.0</td>\n",
       "      <td>174.999130</td>\n",
       "      <td>64.0</td>\n",
       "    </tr>\n",
       "    <tr>\n",
       "      <th>104</th>\n",
       "      <td>0.051022</td>\n",
       "      <td>6.600584e+07</td>\n",
       "      <td>163449.494249</td>\n",
       "      <td>250.0</td>\n",
       "      <td>3.116818e+06</td>\n",
       "      <td>33628.447951</td>\n",
       "      <td>4206.0</td>\n",
       "      <td>66005842.0</td>\n",
       "      <td>170073.182926</td>\n",
       "      <td>243.0</td>\n",
       "      <td>2055.0</td>\n",
       "      <td>28.233197</td>\n",
       "      <td>8.0</td>\n",
       "    </tr>\n",
       "  </tbody>\n",
       "</table>\n",
       "<p>105 rows × 13 columns</p>\n",
       "</div>"
      ],
      "text/plain": [
       "     rw_ratio     iat_range        iat_avg  iat_median    read_range  \\\n",
       "0    0.949339  8.654989e+08  108082.521088       797.0  7.792819e+08   \n",
       "1    0.795706  2.574255e+08   66164.873508      1191.0  2.069791e+08   \n",
       "2    0.810921  8.094492e+07  109158.156998       606.0  1.792452e+07   \n",
       "3    1.397184  1.667499e+08   39546.274339       686.0  7.108418e+07   \n",
       "4    0.657149  1.799989e+08    7242.949915       703.0  1.730593e+08   \n",
       "..        ...           ...            ...         ...           ...   \n",
       "100  0.735621  9.413314e+07  167453.379900       308.0  1.229266e+07   \n",
       "101  0.044577  6.515103e+07   51804.597993       383.0  2.450061e+07   \n",
       "102  0.968890  1.080541e+09   59746.007259        23.0  1.080541e+09   \n",
       "103  0.479598  6.479814e+07   17513.200142      3063.0  6.267350e+07   \n",
       "104  0.051022  6.600584e+07  163449.494249       250.0  3.116818e+06   \n",
       "\n",
       "          read_avg  read_median  write_range      write_avg  write_median  \\\n",
       "0     46837.239270        983.0  865498946.0  166225.088872         610.0   \n",
       "1     12878.061528       1394.0  257425490.0  108565.492575        1052.0   \n",
       "2     26936.713152       1600.0   80944925.0  175833.287737         448.0   \n",
       "3      6658.851804        357.0  166749878.0   85496.072334        1211.0   \n",
       "4      8249.782882        407.0  179998861.0    6581.310998        1154.0   \n",
       "..             ...          ...          ...            ...           ...   \n",
       "100    4138.000474        287.0   94133143.0  287591.688641         322.0   \n",
       "101   17874.666616       3203.0   65151032.0   53317.086858         368.0   \n",
       "102  115133.475121        217.0  323605241.0    6081.634407          12.0   \n",
       "103   21014.311846      19504.0   64798139.0   15834.073747        1720.0   \n",
       "104   33628.447951       4206.0   66005842.0  170073.182926         243.0   \n",
       "\n",
       "     block_range  block_average  block_median  \n",
       "0         2055.0      34.008369          16.0  \n",
       "1         2047.0      37.809510           8.0  \n",
       "2         2055.0      49.718695           8.0  \n",
       "3         2055.0     184.206164          16.0  \n",
       "4         2047.0     141.673702          16.0  \n",
       "..           ...            ...           ...  \n",
       "100       2056.0      30.233036           8.0  \n",
       "101       1016.0      22.779462           8.0  \n",
       "102       2047.0      52.682668          16.0  \n",
       "103       2055.0     174.999130          64.0  \n",
       "104       2055.0      28.233197           8.0  \n",
       "\n",
       "[105 rows x 13 columns]"
      ]
     },
     "execution_count": 25,
     "metadata": {},
     "output_type": "execute_result"
    }
   ],
   "source": [
    "dataset"
   ]
  },
  {
   "cell_type": "code",
   "execution_count": 51,
   "metadata": {},
   "outputs": [],
   "source": [
    "from sklearn.cluster import KMeans\n",
    "import matplotlib.pyplot as plt "
   ]
  },
  {
   "cell_type": "code",
   "execution_count": 27,
   "metadata": {},
   "outputs": [
    {
     "data": {
      "text/plain": [
       "KMeans(algorithm='auto', copy_x=True, init='k-means++', max_iter=300,\n",
       "       n_clusters=2, n_init=10, n_jobs=None, precompute_distances='auto',\n",
       "       random_state=42, tol=0.0001, verbose=0)"
      ]
     },
     "execution_count": 27,
     "metadata": {},
     "output_type": "execute_result"
    }
   ],
   "source": [
    "kmeans = KMeans(n_clusters=2, random_state=42)\n",
    "kmeans.fit(dataset)"
   ]
  },
  {
   "cell_type": "code",
   "execution_count": 28,
   "metadata": {},
   "outputs": [
    {
     "data": {
      "text/plain": [
       "array([0, 0, 0, 0, 0, 0, 0, 0, 0, 0, 0, 0, 0, 0, 0, 0, 0, 0, 0, 0, 0, 0,\n",
       "       0, 0, 0, 0, 0, 0, 0, 0, 0, 0, 0, 0, 0, 0, 0, 0, 0, 0, 0, 0, 0, 0,\n",
       "       0, 0, 0, 0, 0, 0, 0, 0, 0, 0, 0, 0, 0, 0, 0, 0, 0, 0, 0, 0, 0, 0,\n",
       "       0, 0, 0, 0, 0, 0, 0, 0, 0, 0, 0, 0, 0, 0, 0, 0, 0, 0, 0, 0, 1, 0,\n",
       "       0, 0, 0, 0, 0, 0, 0, 0, 0, 0, 0, 0, 0, 0, 0, 0, 0], dtype=int32)"
      ]
     },
     "execution_count": 28,
     "metadata": {},
     "output_type": "execute_result"
    }
   ],
   "source": [
    "kmeans.labels_"
   ]
  },
  {
   "cell_type": "code",
   "execution_count": 29,
   "metadata": {},
   "outputs": [],
   "source": [
    "from sklearn.cluster import AgglomerativeClustering"
   ]
  },
  {
   "cell_type": "code",
   "execution_count": 63,
   "metadata": {},
   "outputs": [],
   "source": [
    "clustering = AgglomerativeClustering(n_clusters=5)"
   ]
  },
  {
   "cell_type": "code",
   "execution_count": 64,
   "metadata": {},
   "outputs": [
    {
     "data": {
      "text/plain": [
       "AgglomerativeClustering(affinity='euclidean', compute_full_tree='auto',\n",
       "                        connectivity=None, distance_threshold=None,\n",
       "                        linkage='ward', memory=None, n_clusters=5,\n",
       "                        pooling_func='deprecated')"
      ]
     },
     "execution_count": 64,
     "metadata": {},
     "output_type": "execute_result"
    }
   ],
   "source": [
    "clustering.fit(dataset)"
   ]
  },
  {
   "cell_type": "code",
   "execution_count": 65,
   "metadata": {},
   "outputs": [
    {
     "data": {
      "text/plain": [
       "array([2, 1, 1, 1, 1, 1, 1, 2, 1, 2, 1, 1, 1, 1, 1, 1, 1, 1, 1, 1, 1, 2,\n",
       "       1, 1, 0, 1, 0, 2, 1, 1, 1, 1, 1, 1, 1, 1, 1, 1, 1, 1, 1, 1, 1, 1,\n",
       "       2, 1, 3, 2, 2, 1, 1, 1, 1, 1, 1, 1, 1, 2, 1, 1, 1, 1, 2, 2, 1, 1,\n",
       "       1, 1, 1, 1, 1, 1, 1, 1, 1, 1, 1, 1, 2, 2, 1, 2, 2, 1, 1, 1, 4, 2,\n",
       "       1, 1, 1, 2, 1, 2, 1, 1, 1, 1, 1, 2, 1, 1, 2, 1, 1])"
      ]
     },
     "execution_count": 65,
     "metadata": {},
     "output_type": "execute_result"
    }
   ],
   "source": [
    "clustering.labels_"
   ]
  },
  {
   "cell_type": "code",
   "execution_count": 66,
   "metadata": {},
   "outputs": [
    {
     "data": {
      "image/png": "[encoded data removed]",
      "text/plain": [
       "<Figure size 432x288 with 1 Axes>"
      ]
     },
     "metadata": {},
     "output_type": "display_data"
    }
   ],
   "source": [
    "%matplotlib inline\n",
    "X = dataset\n",
    "y =[2, 1, 1, 1, 1, 1, 1, 2, 1, 2, 1, 1, 1, 1, 1, 1, 1, 1, 1, 1, 1, 2,\n",
    "       1, 1, 0, 1, 0, 2, 1, 1, 1, 1, 1, 1, 1, 1, 1, 1, 1, 1, 1, 1, 1, 1,\n",
    "       2, 1, 3, 2, 2, 1, 1, 1, 1, 1, 1, 1, 1, 2, 1, 1, 1, 1, 2, 2, 1, 1,\n",
    "       1, 1, 1, 1, 1, 1, 1, 1, 1, 1, 1, 1, 2, 2, 1, 2, 2, 1, 1, 1, 4, 2,\n",
    "       1, 1, 1, 2, 1, 2, 1, 1, 1, 1, 1, 2, 1, 1, 2, 1, 1]\n",
    "from sklearn.cluster import AgglomerativeClustering\n",
    "clustering = AgglomerativeClustering(n_clusters=5)\n",
    "clustering.fit(X);\n",
    "\n",
    "# MinMax scale the data so that it fits nicely onto the 0.0->1.0 axes of the plot.\n",
    "from sklearn import preprocessing\n",
    "X_plot = preprocessing.MinMaxScaler().fit_transform(X)\n",
    "\n",
    "colours = 'rbgcm'\n",
    "for i in range(X.shape[0]):\n",
    "    plt.text(X_plot[i, 0], X_plot[i, 1], str(clustering.labels_[i]),\n",
    "             color=colours[y[i]],\n",
    "             fontdict={'weight': 'bold', 'size': 9}\n",
    "        )\n",
    "\n",
    "plt.xticks([])\n",
    "plt.yticks([])\n",
    "plt.axis('off')\n",
    "plt.show()"
   ]
  },
  {
   "cell_type": "code",
   "execution_count": null,
   "metadata": {},
   "outputs": [],
   "source": []
  }
 ],
 "metadata": {
  "kernelspec": {
   "display_name": "Python 3",
   "language": "python",
   "name": "python3"
  },
  "language_info": {
   "codemirror_mode": {
    "name": "ipython",
    "version": 3
   },
   "file_extension": ".py",
   "mimetype": "text/x-python",
   "name": "python",
   "nbconvert_exporter": "python",
   "pygments_lexer": "ipython3",
   "version": "3.6.9"
  }
 },
 "nbformat": 4,
 "nbformat_minor": 2
}
